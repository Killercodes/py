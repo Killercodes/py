{
 "cells": [
  {
   "cell_type": "markdown",
   "metadata": {},
   "source": [
    "**Data Serialization**\n",
    "===\n",
    "\n",
    "\n",
    "# What is data serialization?\n",
    "Data serialization is the process of converting structured data to a format that allows sharing or storage of the data in a form that allows recovery of its original structure. In some cases, the secondary intention of data serialization is to minimize the data’s size which then reduces disk space or bandwidth requirements.\n",
    "\n",
    "# Flat vs. Nested data\n",
    "Before beginning to serialize data, it is important to identify or decide how the data should be structured during data serialization - flat or nested. The differences in the two styles are shown in the below examples.\n",
    "\n",
    "## Flat style:\n"
   ]
  },
  {
   "cell_type": "code",
   "execution_count": 1,
   "metadata": {},
   "outputs": [
    {
     "data": {
      "text/plain": [
       "{'Type': 'A', 'field1': 'value1', 'field2': 'value2', 'field3': 'value3'}"
      ]
     },
     "execution_count": 1,
     "metadata": {},
     "output_type": "execute_result"
    }
   ],
   "source": [
    "{ \"Type\" : \"A\", \"field1\": \"value1\", \"field2\": \"value2\", \"field3\": \"value3\" }"
   ]
  },
  {
   "cell_type": "markdown",
   "metadata": {},
   "source": [
    "## Nested style:\n"
   ]
  },
  {
   "cell_type": "code",
   "execution_count": null,
   "metadata": {},
   "outputs": [],
   "source": [
    "{\"A\"\n",
    "    { \"field1\": \"value1\", \"field2\": \"value2\", \"field3\": \"value3\" } }"
   ]
  },
  {
   "cell_type": "markdown",
   "metadata": {},
   "source": [
    "# Serializing Text\n",
    "\n",
    "## Simple file (flat data)\n",
    "If the data to be serialized is located in a file and contains flat data, Python offers two methods to serialize data.\n",
    "\n",
    "## `repr`\n",
    "The repr method in Python takes a single object parameter and returns a printable representation of the input:"
   ]
  },
  {
   "cell_type": "code",
   "execution_count": null,
   "metadata": {},
   "outputs": [],
   "source": [
    "# input as flat text\n",
    "a =  { \"Type\" : \"A\", \"field1\": \"value1\", \"field2\": \"value2\", \"field3\": \"value3\" }\n",
    "\n",
    "# the same input can also be read from a file\n",
    "a = open('/tmp/file.py', 'r')\n",
    "\n",
    "# returns a printable representation of the input;\n",
    "# the output can be written to a file as well\n",
    "print(repr(a))\n",
    "\n",
    "# write content to files using repr\n",
    "with open('/tmp/file.py') as f:f.write(repr(a))"
   ]
  },
  {
   "cell_type": "markdown",
   "metadata": {},
   "source": [
    "### `ast.literal_eval`\n",
    "The literal_eval method safely parses and evaluates an expression for a Python datatype. Supported data types are: strings, numbers, tuples, lists, dicts, booleans, and None."
   ]
  },
  {
   "cell_type": "code",
   "execution_count": null,
   "metadata": {},
   "outputs": [],
   "source": [
    "with open('/tmp/file.py', 'r') as f: inp = ast.literal_eval(f.read())"
   ]
  },
  {
   "cell_type": "markdown",
   "metadata": {},
   "source": [
    "# CSV file (flat data)\n",
    "The CSV module in Python implements classes to read and write tabular data in CSV format.\n",
    "\n",
    "## Simple example for reading:\n"
   ]
  },
  {
   "cell_type": "code",
   "execution_count": null,
   "metadata": {},
   "outputs": [],
   "source": [
    "# Reading CSV content from a file\n",
    "import csv\n",
    "with open('/tmp/file.csv', newline='') as f:\n",
    "    reader = csv.reader(f)\n",
    "    for row in reader:\n",
    "        print(row)"
   ]
  },
  {
   "cell_type": "markdown",
   "metadata": {},
   "source": [
    "## Simple example for writing:\n",
    "\n"
   ]
  },
  {
   "cell_type": "code",
   "execution_count": null,
   "metadata": {},
   "outputs": [],
   "source": [
    "# Writing CSV content to a file\n",
    "import csv\n",
    "with open('/temp/file.csv', 'w', newline='') as f:\n",
    "    writer = csv.writer(f)\n",
    "    writer.writerows(iterable)"
   ]
  },
  {
   "cell_type": "markdown",
   "metadata": {},
   "source": [
    "# YAML (nested data)\n",
    "There are many third party modules to parse and read/write YAML file structures in Python. One such example is below.\n",
    "\n"
   ]
  },
  {
   "cell_type": "code",
   "execution_count": null,
   "metadata": {},
   "outputs": [],
   "source": [
    "# Reading YAML content from a file using the load method\n",
    "import yaml\n",
    "with open('/tmp/file.yaml', 'r', newline='') as f:\n",
    "    try:\n",
    "        print(yaml.load(f))\n",
    "    except yaml.YAMLError as ymlexcp:\n",
    "        print(ymlexcp)"
   ]
  },
  {
   "cell_type": "markdown",
   "metadata": {},
   "source": [
    "# JSON file (nested data)\n",
    "Python’s JSON module can be used to read and write JSON files. Example code is below.\n",
    "\n",
    "## Reading:\n"
   ]
  },
  {
   "cell_type": "code",
   "execution_count": null,
   "metadata": {},
   "outputs": [],
   "source": [
    "# Reading JSON content from a file\n",
    "import json\n",
    "with open('/tmp/file.json', 'r') as f:\n",
    "    data = json.load(f)"
   ]
  },
  {
   "cell_type": "markdown",
   "metadata": {},
   "source": [
    "\n",
    "\n",
    "\n",
    "## Writing:\n",
    "\n"
   ]
  },
  {
   "cell_type": "code",
   "execution_count": null,
   "metadata": {},
   "outputs": [],
   "source": [
    "# Writing JSON content to a file using the dump method\n",
    "import json\n",
    "with open('/tmp/file.json', 'w') as f:\n",
    "    json.dump(data, f, sort_keys=True)"
   ]
  },
  {
   "cell_type": "markdown",
   "metadata": {},
   "source": [
    "# XML (nested data)\n",
    "XML parsing in Python is possible using the xml package.\n",
    "\n",
    "Example:\n"
   ]
  },
  {
   "cell_type": "code",
   "execution_count": null,
   "metadata": {},
   "outputs": [],
   "source": [
    "# reading XML content from a file\n",
    "import xml.etree.ElementTree as ET\n",
    "tree = ET.parse('country_data.xml')\n",
    "root = tree.getroot()"
   ]
  },
  {
   "cell_type": "markdown",
   "metadata": {},
   "source": [
    "# Binary\n",
    "\n",
    "## NumPy Array (flat data)\n",
    "Python’s NumPy array can be used to serialize and deserialize data to and from byte representation.\n",
    "\n",
    "Example:\n"
   ]
  },
  {
   "cell_type": "code",
   "execution_count": null,
   "metadata": {},
   "outputs": [],
   "source": [
    "import NumPy as np\n",
    "\n",
    "# Converting NumPy array to byte format\n",
    "byte_output = np.array([ [1, 2, 3], [4, 5, 6], [7, 8, 9] ]).tobytes()\n",
    "\n",
    "# Converting byte format back to NumPy array\n",
    "array_format = np.frombuffer(byte_output)\n"
   ]
  },
  {
   "cell_type": "markdown",
   "metadata": {},
   "source": [
    "## Pickle (nested data)\n",
    "The native data serialization module for Python is called Pickle.\n",
    "\n",
    "\n",
    "Here’s an example:\n"
   ]
  },
  {
   "cell_type": "code",
   "execution_count": null,
   "metadata": {},
   "outputs": [],
   "source": [
    "import pickle\n",
    "\n",
    "#Here's an example dict\n",
    "grades = { 'Alice': 89, 'Bob': 72, 'Charles': 87 }\n",
    "\n",
    "#Use dumps to convert the object to a serialized string\n",
    "serial_grades = pickle.dumps( grades )\n",
    "\n",
    "#Use loads to de-serialize an object\n",
    "received_grades = pickle.loads( serial_grades )"
   ]
  }
 ],
 "metadata": {
  "kernelspec": {
   "display_name": "Python 3.9.6 64-bit",
   "language": "python",
   "name": "python3"
  },
  "language_info": {
   "codemirror_mode": {
    "name": "ipython",
    "version": 3
   },
   "file_extension": ".py",
   "mimetype": "text/x-python",
   "name": "python",
   "nbconvert_exporter": "python",
   "pygments_lexer": "ipython3",
   "version": "3.9.6"
  },
  "orig_nbformat": 4,
  "vscode": {
   "interpreter": {
    "hash": "81794d4967e6c3204c66dcd87b604927b115b27c00565d3d43f05ba2f3a2cb0d"
   }
  }
 },
 "nbformat": 4,
 "nbformat_minor": 2
}
